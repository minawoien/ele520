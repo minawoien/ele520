{
 "cells": [
  {
   "cell_type": "code",
   "execution_count": 35,
   "metadata": {},
   "outputs": [],
   "source": [
    "import getopt\n",
    "import numpy as np\n",
    "import matplotlib\n",
    "import matplotlib.pyplot as plt\n",
    "from mpl_toolkits.mplot3d import axes3d\n",
    "from func import norm_2D"
   ]
  },
  {
   "attachments": {},
   "cell_type": "markdown",
   "metadata": {},
   "source": [
    "- pxw: class specific probability density functions (determine by using Norm2D)\n",
    "- pw: prior probabilities\n",
    "- g: Determine discriminant functions"
   ]
  },
  {
   "cell_type": "code",
   "execution_count": 36,
   "metadata": {},
   "outputs": [],
   "source": [
    "# Initialise values\n",
    "mu = []\n",
    "sgm = []\n",
    "pw = np.array([0.5, 0.5]) # Prior probability\n",
    "col = ['r', 'b']\n",
    "\n",
    "mu.append(np.array([[3],[6]]))\n",
    "mu.append(np.array([[3],[-2]]))\n",
    "sgm.append(np.array([[0.5, 0], [0, 2]]))\n",
    "sgm.append(np.array([[2, 0], [0, 2]]))\n",
    "\n",
    "x1=np.arange(-10,10.5,0.5).reshape(-1,1)\n",
    "x2=np.arange(-9,10.5,0.5).reshape(-1,1)\n",
    "x_1, x_2 = np.meshgrid(x1, x2)"
   ]
  },
  {
   "cell_type": "code",
   "execution_count": 43,
   "metadata": {},
   "outputs": [
    {
     "name": "stdout",
     "output_type": "stream",
     "text": [
      "[[1. 1. 1. ... 1. 1. 1.]\n",
      " [1. 1. 1. ... 1. 1. 1.]\n",
      " [1. 1. 1. ... 1. 1. 1.]\n",
      " ...\n",
      " [1. 1. 1. ... 1. 1. 1.]\n",
      " [1. 1. 1. ... 1. 1. 1.]\n",
      " [1. 1. 1. ... 1. 1. 1.]]\n"
     ]
    }
   ],
   "source": [
    "# Determine class specific probability density functions, pxw[i]\n",
    "pxw = []\n",
    "px = 0 # total density function\n",
    "for i in range(len(mu)):\n",
    "    pxw.append(norm_2D(mu[i], sgm[i], x_1, x_2))\n",
    "    px += pw[i] + pxw[i]\n",
    "# fig, ax = plt.subplots(subplot_kw={\"projection\": \"3d\"})\n",
    "# for i in range(len(sgm)):\n",
    "#     pxw = norm_2D(mu[i], sgm[i], x_1, x_2)\n",
    "#     pwpxw = pw[i]*p\n",
    "#     ax.plot_surface(x_1, x_2, p, color=col[i])\n",
    "# plt.show()\n"
   ]
  },
  {
   "cell_type": "code",
   "execution_count": null,
   "metadata": {},
   "outputs": [],
   "source": [
    "# Determine discriminant functions\n",
    "g = []\n",
    "for i in range(len(mu)):\n",
    "    "
   ]
  }
 ],
 "metadata": {
  "kernelspec": {
   "display_name": "Python 3",
   "language": "python",
   "name": "python3"
  },
  "language_info": {
   "codemirror_mode": {
    "name": "ipython",
    "version": 3
   },
   "file_extension": ".py",
   "mimetype": "text/x-python",
   "name": "python",
   "nbconvert_exporter": "python",
   "pygments_lexer": "ipython3",
   "version": "3.9.13"
  },
  "orig_nbformat": 4,
  "vscode": {
   "interpreter": {
    "hash": "b0fa6594d8f4cbf19f97940f81e996739fb7646882a419484c72d19e05852a7e"
   }
  }
 },
 "nbformat": 4,
 "nbformat_minor": 2
}
